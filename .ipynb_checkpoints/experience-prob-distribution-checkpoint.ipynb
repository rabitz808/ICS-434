{
 "cells": [
  {
   "cell_type": "code",
   "execution_count": 2,
   "id": "4d9b5c7d",
   "metadata": {},
   "outputs": [],
   "source": [
    "import pandas as pd\n",
    "import matplotlib.pyplot as plt\n",
    "import numpy as np"
   ]
  },
  {
   "cell_type": "markdown",
   "id": "713c60c7",
   "metadata": {},
   "source": [
    "##### Q.1 \n",
    "\n",
    "Consider the loaded die with the following probabilities:\n",
    "```\n",
    "    p(1) = 0.3/6\n",
    "    p(2) = 0.7/6\n",
    "    p(3) =   2/6\n",
    "    p(4) = 0.5/6\n",
    "    p(5) = 0.2/6\n",
    "    p(6) = 2.3/6\n",
    "```\n"
   ]
  },
  {
   "cell_type": "markdown",
   "id": "dbe12bdf",
   "metadata": {},
   "source": [
    "##### Q.2 \n",
    "* Plot the probability distribution above\n",
    "  * Select the most appropriate visualization to do so."
   ]
  },
  {
   "cell_type": "code",
   "execution_count": 9,
   "id": "9e257906",
   "metadata": {},
   "outputs": [
    {
     "data": {
      "text/plain": [
       "Text(0, 0.5, 'Probability')"
      ]
     },
     "execution_count": 9,
     "metadata": {},
     "output_type": "execute_result"
    },
    {
     "data": {
      "image/png": "[encoded data removed]",
      "text/plain": [
       "<Figure size 432x288 with 1 Axes>"
      ]
     },
     "metadata": {
      "needs_background": "light"
     },
     "output_type": "display_data"
    }
   ],
   "source": [
    "### Add your plot code here\n",
    "dice_probability = [0.3/6, 0.7/6, 2/6, 0.5/6, 0.2/6, 2.3/6]\n",
    "dice_sample = list(range(1,7))\n",
    "\n",
    "plt.bar(dice_sample, dice_probability)\n",
    "plt.xlabel('Die face obtained')\n",
    "plt.ylabel('Probability')"
   ]
  },
  {
   "cell_type": "markdown",
   "id": "2bebd2a7",
   "metadata": {},
   "source": [
    "##### Q.3 \n",
    "* Based only on the plot above, can you predict the mean value of a random variable consisting of values obtaining from rolling a die  that follows the probability distribution given above? Explain your reasoning."
   ]
  },
  {
   "cell_type": "markdown",
   "id": "1315d8da",
   "metadata": {},
   "source": [
    "# Write you answer here\n",
    "Yes you can predict the mean value using the plot above by taking the two highest probability and adding them together then dividing by 2 to get an estimation. \n",
    "3+6 = 9 \n",
    "9/2 = 4.5 \n",
    "This works because 3 and 6 have a higher probability than the other numbers."
   ]
  },
  {
   "cell_type": "markdown",
   "id": "007f6984",
   "metadata": {},
   "source": [
    "##### Q.4\n",
    "* Sample 5000 die rolls such that the probabilities of obtaining the values 1 through 6 are distributed according probabilities above. Use these samples to estimate the mean of the random variable. \n"
   ]
  },
  {
   "cell_type": "code",
   "execution_count": 14,
   "id": "5bc38d79",
   "metadata": {},
   "outputs": [
    {
     "data": {
      "text/plain": [
       "4.0518"
      ]
     },
     "execution_count": 14,
     "metadata": {},
     "output_type": "execute_result"
    }
   ],
   "source": [
    "# Write you code here\n",
    "sample = np.random.choice([1, 2, 3, 4, 5, 6], 5000, p=[0.3/6, 0.7/6, 2/6, 0.5/6, 0.2/6, 2.3/6])\n",
    "sample.mean()"
   ]
  },
  {
   "cell_type": "markdown",
   "id": "78152616",
   "metadata": {},
   "source": [
    "##### Q.5 \n",
    "\n",
    "* Does the mean match your prediction in Q.3 above? Explain your answer.\n"
   ]
  },
  {
   "cell_type": "markdown",
   "id": "7b61af74",
   "metadata": {},
   "source": [
    "# Write you answer here\n",
    "Its really close to 4 so yes the prediction matches. Everytime you run the code it will keep picking a number close to 4.5."
   ]
  },
  {
   "cell_type": "code",
   "execution_count": null,
   "id": "5b7eee94",
   "metadata": {},
   "outputs": [],
   "source": []
  }
 ],
 "metadata": {
  "kernelspec": {
   "display_name": "Python 3 (ipykernel)",
   "language": "python",
   "name": "python3"
  },
  "language_info": {
   "codemirror_mode": {
    "name": "ipython",
    "version": 3
   },
   "file_extension": ".py",
   "mimetype": "text/x-python",
   "name": "python",
   "nbconvert_exporter": "python",
   "pygments_lexer": "ipython3",
   "version": "3.9.7"
  }
 },
 "nbformat": 4,
 "nbformat_minor": 5
}
