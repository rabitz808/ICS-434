{
 "cells": [
  {
   "cell_type": "markdown",
   "id": "8b1a4ff6",
   "metadata": {},
   "source": [
    "#### 1. Reproducing a plot\n",
    "1. Use `numpy`'s `random` module to generate a random list of size 1000 of the following three categories: \"CS\", \"Engineering\", \"Math\" and \"Physics\"\n",
    "  1.1 Use a seed of 42\n",
    "2. Store the data in an array called my `students_affiliations`\n",
    "3. use `matplotlib` to plot the data in `students_affiliations` to reproduce the following graph\n",
    " 3.1 The plot uses \"#FF5733\" as color with an alpha (transparency) of 0.55.\n",
    "\n",
    "* Your graph should look exactly like the one below\n",
    "\n",
    "![](https://www.dropbox.com/s/ffmu62es6d7evh5/experience_fig.png?dl=1)"
   ]
  },
  {
   "cell_type": "markdown",
   "id": "bf3607f3",
   "metadata": {},
   "source": [
    "#### 2. Generating a scatter plot\n",
    "* Generate random data to produce a scatter plot\n",
    "  * You can use any function to generate the data\n",
    "  * Instead of using circles as symbols, you should use squares.\n",
    "    "
   ]
  },
  {
   "cell_type": "code",
   "execution_count": 33,
   "id": "9f7530eb",
   "metadata": {},
   "outputs": [],
   "source": [
    "import numpy as np\n",
    "import pandas as pd\n",
    "import matplotlib.pyplot as plt\n",
    "import random"
   ]
  },
  {
   "cell_type": "code",
   "execution_count": 68,
   "id": "5acfe3e6",
   "metadata": {},
   "outputs": [
    {
     "data": {
      "text/plain": [
       "3    280\n",
       "0    258\n",
       "2    232\n",
       "1    230\n",
       "dtype: int64"
      ]
     },
     "execution_count": 68,
     "metadata": {},
     "output_type": "execute_result"
    }
   ],
   "source": [
    "np.random.seed(42)\n",
    "students_affiliations = pd.DataFrame(np.random.randint(0, 4, size=(1000, 1)))\n",
    "students_affiliations.value_counts()"
   ]
  },
  {
   "cell_type": "code",
   "execution_count": 82,
   "id": "689852f8",
   "metadata": {},
   "outputs": [
    {
     "data": {
      "text/plain": [
       "<BarContainer object of 4 artists>"
      ]
     },
     "execution_count": 82,
     "metadata": {},
     "output_type": "execute_result"
    },
    {
     "data": {
      "image/png": "[encoded data removed]",
      "text/plain": [
       "<Figure size 432x288 with 1 Axes>"
      ]
     },
     "metadata": {
      "needs_background": "light"
     },
     "output_type": "display_data"
    }
   ],
   "source": [
    "plt.figure()\n",
    "discipline = [\"Physics\", \"CS\", \"Math\", \"Engineering\"]\n",
    "\n",
    "plt.xlabel('Disiplines')\n",
    "plt.ylabel('Counts')\n",
    "plt.title('Distribution of Students in the Program', color='green')\n",
    "plt.bar(discipline, students_affiliations.value_counts(), color='#FF5733', alpha=0.55)"
   ]
  },
  {
   "cell_type": "code",
   "execution_count": 100,
   "id": "709a9104",
   "metadata": {},
   "outputs": [
    {
     "data": {
      "text/plain": [
       "<matplotlib.collections.PathCollection at 0x1cc8d0ad4f0>"
      ]
     },
     "execution_count": 100,
     "metadata": {},
     "output_type": "execute_result"
    },
    {
     "data": {
      "image/png": "[encoded data removed]",
      "text/plain": [
       "<Figure size 432x288 with 1 Axes>"
      ]
     },
     "metadata": {
      "needs_background": "light"
     },
     "output_type": "display_data"
    }
   ],
   "source": [
    "Height = pd.DataFrame(np.random.randint(48, 73, size=(100, 1)))\n",
    "Weight = pd.DataFrame(np.random.randint(0, 200, size=(100, 1)))\n",
    "plt.xlabel('Weight (lbs)')\n",
    "plt.ylabel('Height (inches)')\n",
    "plt.title('Distribution of Height in Correlation to Weight', color='green')\n",
    "plt.scatter(Weight, Height, color='#FF5733', alpha=0.55, marker=\"s\")\n"
   ]
  },
  {
   "cell_type": "code",
   "execution_count": null,
   "id": "f2e4ed77",
   "metadata": {},
   "outputs": [],
   "source": []
  }
 ],
 "metadata": {
  "kernelspec": {
   "display_name": "Python 3 (ipykernel)",
   "language": "python",
   "name": "python3"
  },
  "language_info": {
   "codemirror_mode": {
    "name": "ipython",
    "version": 3
   },
   "file_extension": ".py",
   "mimetype": "text/x-python",
   "name": "python",
   "nbconvert_exporter": "python",
   "pygments_lexer": "ipython3",
   "version": "3.9.7"
  }
 },
 "nbformat": 4,
 "nbformat_minor": 5
}
